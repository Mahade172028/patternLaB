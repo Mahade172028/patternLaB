{
  "nbformat": 4,
  "nbformat_minor": 0,
  "metadata": {
    "colab": {
      "name": "Feature Extraction.ipynb",
      "provenance": [],
      "collapsed_sections": []
    },
    "kernelspec": {
      "name": "python3",
      "display_name": "Python 3"
    }
  },
  "cells": [
    {
      "cell_type": "code",
      "metadata": {
        "id": "iZkkYtal0knY",
        "outputId": "e319f7af-e934-4c11-aaf4-16a43bf310c3",
        "colab": {
          "base_uri": "https://localhost:8080/"
        }
      },
      "source": [
        "from google.colab import drive\n",
        "drive.mount('/content/gdrive')"
      ],
      "execution_count": null,
      "outputs": [
        {
          "output_type": "stream",
          "text": [
            "Mounted at /content/gdrive\n"
          ],
          "name": "stdout"
        }
      ]
    },
    {
      "cell_type": "code",
      "metadata": {
        "id": "DZGmCjlPOtu1",
        "outputId": "035be916-0ac8-4abe-df36-1a36471c06c9",
        "colab": {
          "base_uri": "https://localhost:8080/"
        }
      },
      "source": [
        "!pip install biopython"
      ],
      "execution_count": null,
      "outputs": [
        {
          "output_type": "stream",
          "text": [
            "Collecting biopython\n",
            "\u001b[?25l  Downloading https://files.pythonhosted.org/packages/76/02/8b606c4aa92ff61b5eda71d23b499ab1de57d5e818be33f77b01a6f435a8/biopython-1.78-cp36-cp36m-manylinux1_x86_64.whl (2.3MB)\n",
            "\u001b[K     |████████████████████████████████| 2.3MB 4.1MB/s \n",
            "\u001b[?25hRequirement already satisfied: numpy in /usr/local/lib/python3.6/dist-packages (from biopython) (1.18.5)\n",
            "Installing collected packages: biopython\n",
            "Successfully installed biopython-1.78\n"
          ],
          "name": "stdout"
        }
      ]
    },
    {
      "cell_type": "code",
      "metadata": {
        "id": "2DxeJ8LT1JHr"
      },
      "source": [
        "from Bio import  SeqIO\n",
        "\n",
        "fasta_files = ['NA_test', 'NA_train', 'NC_test', 'NC_train', 'ND_test', 'ND_train', 'NE_test', 'NE_train', 'NGpick_test', 'NGpick_train', 'NGsub_test', 'NGsub_train', 'PA_test', 'PA_train', 'PC_test', 'PC_train', 'PD_test', 'PD_train', 'PE_test', 'PE_train', 'PGpick_test', 'PGpick_train', 'PGsub_test', 'PGsub_train']\n",
        "\n",
        "\n",
        "def text_to_fasta(filename):\n",
        "\n",
        "  path = f'/content/gdrive/My Drive/Pattern Lab - 203sem/fasta/{filename}.fasta'\n",
        "  outputpath = f'/content/gdrive/My Drive/Pattern Lab - 203sem/specialfasta/{filename}special.txt'\n",
        "  outputfile = open(outputpath, \"w\")\n",
        "  label = '1'\n",
        "  mode = 'training'\n",
        "  if filename[0] == 'N':\n",
        "    label = '0'\n",
        "  if 'test' in filename:\n",
        "    mode = 'testing'\n",
        "\n",
        "  for Seq_record in SeqIO.parse(path, 'fasta'):\n",
        "    id = Seq_record.id + '|' + label + '|' + mode\n",
        "    sequence = str(Seq_record.seq)\n",
        "    outputfile.write('>' + id + '\\n' + sequence + '\\n')\n",
        "  outputfile.close()\n",
        "\n",
        "for _file in fasta_files:\n",
        "  text_to_fasta(_file)\n"
      ],
      "execution_count": null,
      "outputs": []
    },
    {
      "cell_type": "code",
      "metadata": {
        "id": "WsQgLEP3WeZF",
        "outputId": "d4a7a359-c5ae-4218-a30e-e5aa8d6ce41b",
        "colab": {
          "base_uri": "https://localhost:8080/"
        }
      },
      "source": [
        "%cd /content/gdrive/My Drive/Pattern Lab - 203sem/iLearn\n",
        "!python descnucleotide/Kmer.py --file ../specialfasta/NA_testspecial.txt --kmer 3  --normalize --format csv --out ../features/NA_test_Kmer3.csv"
      ],
      "execution_count": null,
      "outputs": [
        {
          "output_type": "stream",
          "text": [
            "/content/gdrive/My Drive/Pattern Lab - 203sem/iLearn\n"
          ],
          "name": "stdout"
        }
      ]
    }
  ]
}