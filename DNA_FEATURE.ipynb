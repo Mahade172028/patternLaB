{
 "cells": [
  {
   "cell_type": "code",
   "execution_count": 1,
   "metadata": {},
   "outputs": [],
   "source": [
    "import pandas as pd\n",
    "import numpy as np\n",
    "\n",
    "file=open(\"Downloads/name.txt\")\n",
    "for F in file:\n",
    "    F=F.rstrip()\n",
    "    Fl=\"Downloads/DATASET/ALL/\"+F+\".csv\"\n",
    "    data=pd.read_csv(Fl,header=None)\n",
    "    data=np.array(data)\n",
    "    data=data[:,1:]\n",
    "    Fl=\"Downloads/PC_test/\"+F+\".npy\"\n",
    "    np.save(Fl,data)"
   ]
  },
  {
   "cell_type": "code",
   "execution_count": 2,
   "metadata": {},
   "outputs": [
    {
     "name": "stdout",
     "output_type": "stream",
     "text": [
      "{'NC_train_kmer1.npy': [0, 3], 'NC_train_kmer2.npy': [4, 19], 'NC_train_kmer3.npy': [20, 83], 'NC_train_kmer4.npy': [84, 339], 'NC_train_kmer5.npy': [340, 1363], 'NC_train_binary.npy': [1364, 1527], 'NC_train_CKSNAP1.npy': [1528, 1559], 'NC_train_CKSNAP3.npy': [1560, 1623], 'NC_train_CKSNAP5.npy': [1624, 1719], 'NC_train_CKSNAP7.npy': [1720, 1847], 'NC_train_ENAC5.npy': [1848, 1995], 'NC_train_ENAC10.npy': [1996, 2123], 'NC_train_DAC1.npy': [2124, 2129], 'NC_train_DAC3.npy': [2130, 2147], 'NC_train_DAC5.npy': [2148, 2177], 'NC_train_NCP.npy': [2178, 2300], 'NC_train_TAC1.npy': [2301, 2302], 'NC_train_TAC3.npy': [2303, 2308], 'NC_train_TAC5.npy': [2309, 2318], 'NC_train_TAC7.npy': [2319, 2332], 'NC_train_pseEIIP.npy': [2333, 2396]}\n",
      "(1450, 2397)\n"
     ]
    }
   ],
   "source": [
    "num_of_feature=[]\n",
    "feature_name=[]\n",
    "file=open(\"Downloads/name.txt\")\n",
    "for name in file:\n",
    "    name=name.rstrip()+\".npy\"\n",
    "   # print(name)\n",
    "    feature_name.append(name)\n",
    "\n",
    "    \n",
    "\n",
    "for name in feature_name:\n",
    "    nm=\"Downloads/PC_test/\"+name\n",
    "    val=np.load(nm)\n",
    "    num_of_feature.append(val.shape[1])\n",
    "    \n",
    "index_dict={}\n",
    "trck=0\n",
    "for i,f_name in enumerate(feature_name):\n",
    "    l=[trck,trck+num_of_feature[i]-1]\n",
    "    trck=trck+num_of_feature[i]\n",
    "    index_dict[f_name]=l\n",
    "print(index_dict)\n",
    "\n",
    "feature_name_dir=[]\n",
    "for name in feature_name:\n",
    "    name=\"Downloads/PC_test/\"+name\n",
    "    feature_name_dir.append(name)\n",
    "\n",
    "\n",
    "NC_train=np.concatenate((np.load(feature_name_dir[0]),\n",
    "                         np.load(feature_name_dir[1]),\n",
    "                         np.load(feature_name_dir[2]),\n",
    "                         np.load(feature_name_dir[3]),\n",
    "                         np.load(feature_name_dir[4]),\n",
    "                         np.load(feature_name_dir[5]),\n",
    "                         np.load(feature_name_dir[6]),\n",
    "                         np.load(feature_name_dir[7]),\n",
    "                         np.load(feature_name_dir[8]),\n",
    "                         np.load(feature_name_dir[9]),\n",
    "                         np.load(feature_name_dir[10]),\n",
    "                         np.load(feature_name_dir[11]),\n",
    "                         np.load(feature_name_dir[12]),\n",
    "                         np.load(feature_name_dir[13]),\n",
    "                         np.load(feature_name_dir[14]),\n",
    "                         np.load(feature_name_dir[15]),\n",
    "                         np.load(feature_name_dir[16]),\n",
    "                         np.load(feature_name_dir[17]),\n",
    "                         np.load(feature_name_dir[18]),\n",
    "                         np.load(feature_name_dir[19]),\n",
    "                         np.load(feature_name_dir[20]),),axis=1)\n",
    "\n",
    "np.save(\"Downloads/PC_test_all.npy\",NC_train)\n",
    "n=np.load(\"Downloads/PC_test_all.npy\")\n",
    "print(n.shape)\n"
   ]
  },
  {
   "cell_type": "code",
   "execution_count": 39,
   "metadata": {},
   "outputs": [],
   "source": [
    "import numpy as np\n",
    "NC_train=np.load(\"Downloads/NC_test_all.npy\")\n",
    "a=np.zeros(NC_train.shape[0])\n",
    "a=a.reshape(NC_train.shape[0],1)\n",
    "np.save(\"Downloads/NC_Y_test.npy\",a)"
   ]
  },
  {
   "cell_type": "code",
   "execution_count": 32,
   "metadata": {},
   "outputs": [],
   "source": [
    "import numpy as np\n",
    "NC_train=np.load(\"Downloads/NC_train_all.npy\")\n",
    "PC_train=np.load(\"Downloads/PC_train_all.npy\")\n",
    "#print(NA_train.shape,PA_train.shape)\n",
    "X_train=np.concatenate((NC_train,PC_train),axis=0)\n",
    "np.save(\"Downloads/X_train.npy\",X_train)"
   ]
  },
  {
   "cell_type": "code",
   "execution_count": 41,
   "metadata": {},
   "outputs": [],
   "source": [
    "import numpy as np\n",
    "NC_test=np.load(\"Downloads/NC_Y_test.npy\")\n",
    "PC_test=np.load(\"Downloads/PC_Y_test.npy\")\n",
    "#print(NA_train.shape,PA_train.shape)\n",
    "Y_test=np.concatenate((NC_test,PC_test),axis=0)\n",
    "np.save(\"Downloads/Y_test.npy\",Y_test)"
   ]
  },
  {
   "cell_type": "code",
   "execution_count": null,
   "metadata": {},
   "outputs": [],
   "source": []
  }
 ],
 "metadata": {
  "kernelspec": {
   "display_name": "Python 3",
   "language": "python",
   "name": "python3"
  },
  "language_info": {
   "codemirror_mode": {
    "name": "ipython",
    "version": 3
   },
   "file_extension": ".py",
   "mimetype": "text/x-python",
   "name": "python",
   "nbconvert_exporter": "python",
   "pygments_lexer": "ipython3",
   "version": "3.8.1"
  }
 },
 "nbformat": 4,
 "nbformat_minor": 4
}
