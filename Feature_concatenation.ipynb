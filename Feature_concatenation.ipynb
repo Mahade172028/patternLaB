{
  "nbformat": 4,
  "nbformat_minor": 0,
  "metadata": {
    "colab": {
      "name": "Feature concatenation.ipynb",
      "provenance": []
    },
    "kernelspec": {
      "name": "python3",
      "display_name": "Python 3"
    }
  },
  "cells": [
    {
      "cell_type": "code",
      "metadata": {
        "id": "IqkDoOcmjj-f"
      },
      "source": [
        "import pandas as pd\n",
        "import numpy as np"
      ],
      "execution_count": null,
      "outputs": []
    },
    {
      "cell_type": "code",
      "metadata": {
        "id": "38aEUESok9R0",
        "colab": {
          "base_uri": "https://localhost:8080/"
        },
        "outputId": "6bc02f65-67fc-49c9-87e9-76f20ae33c4e"
      },
      "source": [
        "from google.colab import drive\n",
        "drive.mount('/content/gdrive', force_remount=True)\n",
        "%cd /content/gdrive/My Drive/Pattern Lab - 203sem"
      ],
      "execution_count": null,
      "outputs": [
        {
          "output_type": "stream",
          "text": [
            "Mounted at /content/gdrive\n",
            "/content/gdrive/My Drive/Pattern Lab - 203sem\n"
          ],
          "name": "stdout"
        }
      ]
    },
    {
      "cell_type": "markdown",
      "metadata": {
        "id": "90bHwTuow70g"
      },
      "source": [
        "***CSV to Numpy array***"
      ]
    },
    {
      "cell_type": "code",
      "metadata": {
        "id": "tJlHM8o0j0cL"
      },
      "source": [
        "#df = pd.read_csv('features/NA_test_Kmer1.csv', header=None)\n",
        "#df.drop(df.columns[[0]], axis=1, inplace=True)\n",
        "#data = df.to_numpy()[:, 1:]\n",
        "#np.save('./numpys/NA_test_Kmer1.npy', data)\n",
        "\n",
        "files = ['NA_test', 'NA_train', 'PA_test', 'PA_train']\n",
        "features = ['binary', 'CKSNAP1', 'CKSNAP3', 'CKSNAP5', 'CKSNAP7', 'CKSNAP9', 'DAC5', 'DAC6', 'DAC7', 'EIIP', 'ENAC5','ENAC10', 'Kmer1', 'Kmer2', 'Kmer3', 'Kmer4', 'Kmer5', 'NCP', 'PseEIIP', 'TAC5', 'TAC6', 'TAC7']\n",
        "\n",
        "for file in files:\n",
        "  for feature in features:\n",
        "    df = pd.read_csv(f'features/{file}_{feature}.csv', header=None)\n",
        "    df.drop(df.columns[[0]], axis=1, inplace=True)\n",
        "    data = df.to_numpy()\n",
        "    np.save(f'./numpys/{file}_{feature}.npy', data)\n"
      ],
      "execution_count": null,
      "outputs": []
    },
    {
      "cell_type": "markdown",
      "metadata": {
        "id": "m6NmQh6XxGL3"
      },
      "source": [
        "***Saving indexes of features for defferentiating aftar concatenation***"
      ]
    },
    {
      "cell_type": "code",
      "metadata": {
        "id": "iS8Isi6tj3Yb",
        "colab": {
          "base_uri": "https://localhost:8080/"
        },
        "outputId": "4ad7c27a-3d62-4c7a-fc62-62c08e5c511b"
      },
      "source": [
        "till = -1\n",
        "index_dict = {}\n",
        "for feature in features:\n",
        "  data = np.load(f'./numpys/NA_test_{feature}.npy')\n",
        "  index_dict[f'{feature}'] = [till+1 , till + data.shape[1]]\n",
        "  till = till + (data.shape[1])\n",
        "\n",
        "print(index_dict)"
      ],
      "execution_count": null,
      "outputs": [
        {
          "output_type": "stream",
          "text": [
            "{'binary': [0, 163], 'CKSNAP1': [164, 195], 'CKSNAP3': [196, 259], 'CKSNAP5': [260, 355], 'CKSNAP7': [356, 483], 'CKSNAP9': [484, 643], 'DAC5': [644, 673], 'DAC6': [674, 709], 'DAC7': [710, 751], 'EIIP': [752, 792], 'ENAC5': [793, 940], 'ENAC10': [941, 1068], 'Kmer1': [1069, 1072], 'Kmer2': [1073, 1088], 'Kmer3': [1089, 1152], 'Kmer4': [1153, 1408], 'Kmer5': [1409, 2432], 'NCP': [2433, 2555], 'PseEIIP': [2556, 2619], 'TAC5': [2620, 2629], 'TAC6': [2630, 2641], 'TAC7': [2642, 2655]}\n"
          ],
          "name": "stdout"
        }
      ]
    },
    {
      "cell_type": "markdown",
      "metadata": {
        "id": "GCZ07ww5x0mK"
      },
      "source": [
        "***Save the dictionary as pickle***"
      ]
    },
    {
      "cell_type": "code",
      "metadata": {
        "colab": {
          "base_uri": "https://localhost:8080/"
        },
        "id": "FN5F69Cgx8ny",
        "outputId": "e6b9ce9d-e12d-4854-e03c-14b0634352c6"
      },
      "source": [
        "import pickle\n",
        "\n",
        "with open('index_dict.pickle', 'wb') as handle:\n",
        "    pickle.dump(index_dict, handle, protocol=pickle.HIGHEST_PROTOCOL)\n",
        "\n",
        "# Load data (deserialize)\n",
        "with open('index_dict.pickle', 'rb') as handle:\n",
        "    unserialized_data = pickle.load(handle)\n",
        "print(unserialized_data)"
      ],
      "execution_count": null,
      "outputs": [
        {
          "output_type": "stream",
          "text": [
            "{'binary': [0, 163], 'CKSNAP1': [164, 195], 'CKSNAP3': [196, 259], 'CKSNAP5': [260, 355], 'CKSNAP7': [356, 483], 'CKSNAP9': [484, 643], 'DAC5': [644, 673], 'DAC6': [674, 709], 'DAC7': [710, 751], 'EIIP': [752, 792], 'ENAC5': [793, 940], 'ENAC10': [941, 1068], 'Kmer1': [1069, 1072], 'Kmer2': [1073, 1088], 'Kmer3': [1089, 1152], 'Kmer4': [1153, 1408], 'Kmer5': [1409, 2432], 'NCP': [2433, 2555], 'PseEIIP': [2556, 2619], 'TAC5': [2620, 2629], 'TAC6': [2630, 2641], 'TAC7': [2642, 2655]}\n"
          ],
          "name": "stdout"
        }
      ]
    },
    {
      "cell_type": "markdown",
      "metadata": {
        "id": "9WT3O3pF8hCs"
      },
      "source": [
        "***Concate numpy arrays***"
      ]
    },
    {
      "cell_type": "code",
      "metadata": {
        "id": "cv-N_VH68rbJ"
      },
      "source": [
        "for file in files:\n",
        "  narr = np.concatenate([np.load(f'./numpys/{file}_{feature}.npy') for feature in features], axis=1)\n",
        "  np.save(f'{file}_all.npy', narr)\n",
        "\n"
      ],
      "execution_count": null,
      "outputs": []
    },
    {
      "cell_type": "markdown",
      "metadata": {
        "id": "KeusVs_vCQAJ"
      },
      "source": [
        "***Add pos and neg and generate Xtrain Ytrain***"
      ]
    },
    {
      "cell_type": "code",
      "metadata": {
        "id": "bjlPc25PCkZv"
      },
      "source": [
        "Xtrain = np.concatenate([np.load('PA_train_all.npy'), np.load('NA_train_all.npy')], axis = 0)\n",
        "Xtest = np.concatenate([np.load('PA_test_all.npy'), np.load('NA_test_all.npy')], axis = 0)\n",
        "np.save('final datas/Xtrain.npy', Xtrain)\n",
        "np.save('final datas/Xtest.npy', Xtest)"
      ],
      "execution_count": null,
      "outputs": []
    },
    {
      "cell_type": "markdown",
      "metadata": {
        "id": "5aHmf_RjJfhu"
      },
      "source": [
        "***Make Ytrain and Ytest***"
      ]
    },
    {
      "cell_type": "code",
      "metadata": {
        "id": "PTQQ8PtIGkUX"
      },
      "source": [
        "#print(Xtrain.shape, Xtest.shape)\n",
        "Ytrain = np.concatenate([np.ones(shape=(1846)), np.zeros(shape=(1846))], axis = 0)\n",
        "Ytest = np.concatenate([np.ones(shape=(132)), np.zeros(shape=(132))], axis = 0)\n",
        "\n",
        "np.save('final datas/Ytrain.npy', Ytrain)\n",
        "np.save('final datas/Ytest.npy', Ytest)"
      ],
      "execution_count": null,
      "outputs": []
    },
    {
      "cell_type": "code",
      "metadata": {
        "id": "7Kq_33R-IGuT",
        "colab": {
          "base_uri": "https://localhost:8080/"
        },
        "outputId": "a2ea5ac4-6120-4264-d31a-c697264e9b50"
      },
      "source": [
        "d = np.load('PA_test_all.npy')\n",
        "print(d.shape)\n",
        "df = pd.read_csv('features/NA_train_DAC5.csv', header=None)\n",
        "print(df.shape)"
      ],
      "execution_count": 15,
      "outputs": [
        {
          "output_type": "stream",
          "text": [
            "(132, 2656)\n",
            "(1846, 31)\n"
          ],
          "name": "stdout"
        }
      ]
    }
  ]
}